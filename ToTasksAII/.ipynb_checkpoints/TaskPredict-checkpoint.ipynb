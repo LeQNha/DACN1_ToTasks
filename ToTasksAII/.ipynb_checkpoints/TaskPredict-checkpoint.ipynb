{
 "cells": [
  {
   "cell_type": "code",
   "execution_count": null,
   "id": "7ded6c07-48f7-43d3-a946-bb555687e3b8",
   "metadata": {},
   "outputs": [],
   "source": [
    "from prediction_models.predict_models.DurationPredict import predict_duration\n",
    "from prediction_models.predict_models.ImportancePredict import predict_importance\n",
    "from prediction_models.predict_models.StartTimePredict import predict_start_time\n",
    "from prediction_models.predict_models.StartTimePredict2 import predict_start_time_2\n",
    "from prediction_models.predict_models.TypePredict import predict_task_type\n",
    "from utils.DataInput import new_task\n",
    "from utils.SpellCheck import preprocess_text_with_spell_check\n",
    "from utils.TextPreprocess import preprocess_text"
   ]
  },
  {
   "cell_type": "code",
   "execution_count": null,
   "id": "0e99282a-b0f0-4657-a00a-941c9b1c6d41",
   "metadata": {},
   "outputs": [],
   "source": [
    "def task_predict(new_task):\n",
    "    original_name = new_task['TaskName']"
   ]
  },
  {
   "cell_type": "code",
   "execution_count": null,
   "id": "c4e7de84-b44f-43d0-95db-f8627102f8a6",
   "metadata": {},
   "outputs": [],
   "source": [
    "# Xử lí dữ liệu\n",
    "    # Làm sạch và tiền xử lý TaskName input\n",
    "    new_task['TaskName'] = preprocess_text(original_name)\n",
    "    # Tiền xử lý thêm: Loại bỏ stopwords, lemmatization và sửa lỗi chính tả\n",
    "    new_task['TaskName'] = preprocess_text_with_spell_check(new_task['TaskName'])\n",
    "    corrected_name = new_task['TaskName']\n",
    "    # In ra sự khác biệt giữa tên gốc và tên đã sửa lỗi chính tả\n",
    "    print(f\"Original Task Name: {original_name} -> Corrected Task Name: {corrected_name}\")"
   ]
  },
  {
   "cell_type": "code",
   "execution_count": null,
   "id": "6947fd27-ea96-407b-8037-de82cd5445da",
   "metadata": {},
   "outputs": [],
   "source": [
    "# PREDICT TYPE\n",
    "    if new_task['Type'] == \"\":  # hoặc if not var: để kiểm tra chuỗi rỗng\n",
    "        # Biến này rỗng\n",
    "        task_type_predicted = predict_task_type(new_task['TaskName'], new_task['UserId'])\n",
    "        new_task['Type'] = task_type_predicted\n",
    "        print(f\"\\n Type: {new_task['Type']}\")"
   ]
  },
  {
   "cell_type": "code",
   "execution_count": null,
   "id": "69c94f4f-d4f4-4652-a861-a8b1a245e382",
   "metadata": {},
   "outputs": [],
   "source": [
    "# PREDICT IMPORTANCE\n",
    "    if new_task['Importance'] == \"\":\n",
    "        task_importance_predicted = predict_importance(new_task['TaskName'], new_task['Type'], new_task['UserId'])\n",
    "        new_task['Importance'] = task_importance_predicted\n",
    "        print(f\"Importance: {new_task['Importance']}\")"
   ]
  },
  {
   "cell_type": "code",
   "execution_count": null,
   "id": "5a47680d-8cd8-4b4d-b0d3-b274abdb39d9",
   "metadata": {},
   "outputs": [],
   "source": [
    "# PREDICT DURATION\n",
    "    if new_task['Duration'] == 0:\n",
    "        task_duration_predict = predict_duration(task_name=new_task['TaskName'], task_type=new_task['Type'],\n",
    "                                                 task_importance=new_task['Importance'], day_of_week=new_task['DayOfWeek'], user_id=new_task['UserId'])\n",
    "\n",
    "        print(f\"Predicted Duration: {task_duration_predict:.2f} minutes\")\n",
    "        predicted_duration = round(task_duration_predict / 5) * 5\n",
    "        new_task['Duration'] = predicted_duration\n",
    "        print(f\"Final duration predicted: {new_task['Duration']}\")"
   ]
  },
  {
   "cell_type": "code",
   "execution_count": null,
   "id": "d7c0dd18-4b28-4a74-aa42-73de7ba7d48d",
   "metadata": {},
   "outputs": [],
   "source": [
    "    def minutes_to_hours_minutes(minutes):\n",
    "        hours = int(minutes // 60)  # Chia lấy số giờ\n",
    "        minutes = int(minutes % 60)  # Lấy phần dư để tính phút\n",
    "        return f\"{hours:02}:{minutes:02}\""
   ]
  },
  {
   "cell_type": "code",
   "execution_count": null,
   "id": "7a6bf611-1088-49d7-aa1c-b88a4964e385",
   "metadata": {},
   "outputs": [],
   "source": [
    "# PREDICT START TIME 2\n",
    "    predicted_start_time = new_task['StartTimeInMinute']\n",
    "    if new_task['StartTime'] == \"\":\n",
    "        print(\"\\n START TIME PREDICT 2\")\n",
    "        predicted_start_time = predict_start_time_2(task_name=new_task['TaskName'], task_type=new_task['Type'],\n",
    "                                                    importance=new_task['Importance'], day_of_week=new_task['DayOfWeek'], user_id=new_task['UserId'])\n",
    "        predicted_start_time = round(predicted_start_time / 5) * 5\n",
    "        new_task['StartTimeInMinute'] = predicted_start_time\n",
    "        print(f\"Predicted Start Time (in minutes): {predicted_start_time}\")\n",
    "\n",
    "        # Chuyển đổi phút thành giờ:phút\n",
    "        predicted_start_time_formatted = minutes_to_hours_minutes(predicted_start_time)\n",
    "        new_task['StartTime'] = predicted_start_time_formatted\n",
    "        print(f\"Predicted Start Time: {new_task['StartTime']}\")\n",
    "        print(f\"Predicted End Time: {new_task['EndTime']}\")"
   ]
  },
  {
   "cell_type": "code",
   "execution_count": null,
   "id": "de5dbcb0-37cd-466e-bd9b-b8e02888051f",
   "metadata": {},
   "outputs": [],
   "source": [
    "# Tính toán EndTime\n",
    "    predicted_end_time = predicted_start_time + new_task['Duration']\n",
    "    predicted_end_time = round(predicted_end_time / 5) * 5\n",
    "    new_task['EndTimeInMinute'] = predicted_end_time\n",
    "    print(f\"Predicted End Time (in minutes): {predicted_end_time}\")\n",
    "    # Chuyển đổi phút thành giờ:phút\n",
    "    predicted_end_time_formatted = minutes_to_hours_minutes(predicted_end_time)\n",
    "    new_task['EndTime'] = predicted_end_time_formatted\n",
    "\n",
    "    print(f\"\\n {new_task}\")\n",
    "    return new_task"
   ]
  }
 ],
 "metadata": {
  "kernelspec": {
   "display_name": "Python 3 (ipykernel)",
   "language": "python",
   "name": "python3"
  },
  "language_info": {
   "codemirror_mode": {
    "name": "ipython",
    "version": 3
   },
   "file_extension": ".py",
   "mimetype": "text/x-python",
   "name": "python",
   "nbconvert_exporter": "python",
   "pygments_lexer": "ipython3",
   "version": "3.12.2"
  }
 },
 "nbformat": 4,
 "nbformat_minor": 5
}
