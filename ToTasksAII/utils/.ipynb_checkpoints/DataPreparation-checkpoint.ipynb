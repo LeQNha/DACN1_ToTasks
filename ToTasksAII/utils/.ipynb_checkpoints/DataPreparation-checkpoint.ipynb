{
 "cells": [
  {
   "cell_type": "code",
   "execution_count": null,
   "id": "03afacae-f600-40f4-a9be-88155594fb16",
   "metadata": {},
   "outputs": [],
   "source": [
    "import firebase_admin\n",
    "from firebase_admin import credentials, firestore\n",
    "import pandas as pd"
   ]
  },
  {
   "cell_type": "code",
   "execution_count": null,
   "id": "7b35b3df-6c5d-4e00-8089-7f3c78873a09",
   "metadata": {},
   "outputs": [],
   "source": [
    "# Khởi tạo Firebase app\n",
    "cred = credentials.Certificate(\"serviceAccountKey.json\")\n",
    "firebase_admin.initialize_app(cred)"
   ]
  },
  {
   "cell_type": "code",
   "execution_count": 1,
   "id": "b032f785-81fc-4187-b2d6-1fa3a60c7cfa",
   "metadata": {},
   "outputs": [
    {
     "ename": "NameError",
     "evalue": "name 'firestore' is not defined",
     "output_type": "error",
     "traceback": [
      "\u001b[1;31m---------------------------------------------------------------------------\u001b[0m",
      "\u001b[1;31mNameError\u001b[0m                                 Traceback (most recent call last)",
      "Cell \u001b[1;32mIn[1], line 2\u001b[0m\n\u001b[0;32m      1\u001b[0m \u001b[38;5;66;03m# Truy cập Firestore\u001b[39;00m\n\u001b[1;32m----> 2\u001b[0m db \u001b[38;5;241m=\u001b[39m \u001b[43mfirestore\u001b[49m\u001b[38;5;241m.\u001b[39mclient()\n\u001b[0;32m      4\u001b[0m \u001b[38;5;66;03m# Lấy tất cả các document trong collection \"tasks\"\u001b[39;00m\n\u001b[0;32m      5\u001b[0m docs \u001b[38;5;241m=\u001b[39m db\u001b[38;5;241m.\u001b[39mcollection(\u001b[38;5;124m\"\u001b[39m\u001b[38;5;124mdataset\u001b[39m\u001b[38;5;124m\"\u001b[39m)\u001b[38;5;241m.\u001b[39mstream()\n",
      "\u001b[1;31mNameError\u001b[0m: name 'firestore' is not defined"
     ]
    }
   ],
   "source": [
    "# Truy cập Firestore\n",
    "db = firestore.client()\n",
    "\n",
    "# Lấy tất cả các document trong collection \"tasks\"\n",
    "docs = db.collection(\"dataset\").stream()\n",
    "\n",
    "# Chuyển document về danh sách dict\n",
    "data_list = []\n",
    "for doc in docs:\n",
    "    task_data = doc.to_dict()\n",
    "    data_list.append(task_data)\n",
    "\n",
    "# Tạo DataFrame từ danh sách\n",
    "data = pd.DataFrame(data_list)\n",
    "\n",
    "# Copy dữ liệu để sử dụng\n",
    "used_data = data.copy()\n",
    "\n",
    "data"
   ]
  }
 ],
 "metadata": {
  "kernelspec": {
   "display_name": "Python 3 (ipykernel)",
   "language": "python",
   "name": "python3"
  },
  "language_info": {
   "codemirror_mode": {
    "name": "ipython",
    "version": 3
   },
   "file_extension": ".py",
   "mimetype": "text/x-python",
   "name": "python",
   "nbconvert_exporter": "python",
   "pygments_lexer": "ipython3",
   "version": "3.12.2"
  }
 },
 "nbformat": 4,
 "nbformat_minor": 5
}
