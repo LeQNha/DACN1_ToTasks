{
 "cells": [
  {
   "cell_type": "code",
   "execution_count": null,
   "id": "77d6fc33-a436-4306-8c8f-1e70edb479ec",
   "metadata": {},
   "outputs": [],
   "source": [
    "import re\n",
    "import nltk\n",
    "from nltk.corpus import stopwords\n",
    "# from spellchecker import Spellchecker\n",
    "from spellchecker import SpellChecker\n",
    "from nltk.stem import WordNetLemmatizer"
   ]
  },
  {
   "cell_type": "code",
   "execution_count": null,
   "id": "926ea03f-82d1-4aa0-8995-06a6980de0f0",
   "metadata": {},
   "outputs": [],
   "source": [
    "# Tạo đối tượng SpellChecker\n",
    "spell = SpellChecker()\n",
    "lemmatizer = WordNetLemmatizer()"
   ]
  },
  {
   "cell_type": "code",
   "execution_count": null,
   "id": "ee239d64-9168-4065-b0eb-1fe4f878b0e3",
   "metadata": {},
   "outputs": [],
   "source": [
    "def correct_spelling(text):\n",
    "    words = text.split()\n",
    "    corrected_words = [\n",
    "        spell.correction(word) if spell.correction(word) is not None else word\n",
    "        for word in words\n",
    "    ]\n",
    "    return ' '.join(corrected_words)"
   ]
  },
  {
   "cell_type": "code",
   "execution_count": null,
   "id": "84b37a20-7d19-4825-a3b9-845821ea5c8b",
   "metadata": {},
   "outputs": [],
   "source": [
    "# Hàm tiền xử lý dữ liệu (bao gồm sửa lỗi chính tả)\n",
    "def preprocess_text_with_spell_check(text):\n",
    "    # Tiền xử lý cơ bản: chuyển về chữ thường, loại bỏ ký tự đặc biệt và khoảng trắng thừa\n",
    "    text = text.lower()\n",
    "    text = re.sub(r'[^a-zA-Z0-9\\s]', '', text)  # Loại bỏ ký tự đặc biệt\n",
    "    text = re.sub(r'\\s+', ' ', text).strip()  # Xóa khoảng trắng thừa\n",
    "\n",
    "    # Loại bỏ stopwords và lemmatization\n",
    "    stop = set(stopwords.words('english'))\n",
    "    words = text.split()\n",
    "    lemmatized_words = [lemmatizer.lemmatize(word) for word in words if word not in stop]\n",
    "    text = ' '.join(lemmatized_words)\n",
    "\n",
    "    # Sửa lỗi chính tả\n",
    "    text = correct_spelling(text)\n",
    "\n",
    "    return text"
   ]
  }
 ],
 "metadata": {
  "kernelspec": {
   "display_name": "Python 3 (ipykernel)",
   "language": "python",
   "name": "python3"
  },
  "language_info": {
   "codemirror_mode": {
    "name": "ipython",
    "version": 3
   },
   "file_extension": ".py",
   "mimetype": "text/x-python",
   "name": "python",
   "nbconvert_exporter": "python",
   "pygments_lexer": "ipython3",
   "version": "3.12.2"
  }
 },
 "nbformat": 4,
 "nbformat_minor": 5
}
