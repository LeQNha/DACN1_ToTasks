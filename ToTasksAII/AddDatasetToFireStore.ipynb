{
 "cells": [
  {
   "cell_type": "code",
   "execution_count": 1,
   "id": "6fd57572-972b-4b06-a5e6-43d8634753f4",
   "metadata": {},
   "outputs": [],
   "source": [
    "import firebase_admin\n",
    "from firebase_admin import credentials, firestore\n",
    "import pandas as pd"
   ]
  },
  {
   "cell_type": "code",
   "execution_count": 2,
   "id": "091fe1bd-4763-4451-9a3a-b9205202841d",
   "metadata": {},
   "outputs": [
    {
     "ename": "FileNotFoundError",
     "evalue": "[Errno 2] No such file or directory: 'serviceAccountKey.json'",
     "output_type": "error",
     "traceback": [
      "\u001b[1;31m---------------------------------------------------------------------------\u001b[0m",
      "\u001b[1;31mFileNotFoundError\u001b[0m                         Traceback (most recent call last)",
      "Cell \u001b[1;32mIn[2], line 2\u001b[0m\n\u001b[0;32m      1\u001b[0m \u001b[38;5;66;03m# Khởi tạo Firebase app\u001b[39;00m\n\u001b[1;32m----> 2\u001b[0m cred \u001b[38;5;241m=\u001b[39m \u001b[43mcredentials\u001b[49m\u001b[38;5;241;43m.\u001b[39;49m\u001b[43mCertificate\u001b[49m\u001b[43m(\u001b[49m\u001b[38;5;124;43m\"\u001b[39;49m\u001b[38;5;124;43mserviceAccountKey.json\u001b[39;49m\u001b[38;5;124;43m\"\u001b[39;49m\u001b[43m)\u001b[49m\n\u001b[0;32m      3\u001b[0m firebase_admin\u001b[38;5;241m.\u001b[39minitialize_app(cred)\n\u001b[0;32m      5\u001b[0m \u001b[38;5;66;03m# Kết nối tới Firestore\u001b[39;00m\n",
      "File \u001b[1;32m~\\AppData\\Roaming\\Python\\Python312\\site-packages\\firebase_admin\\credentials.py:97\u001b[0m, in \u001b[0;36mCertificate.__init__\u001b[1;34m(self, cert)\u001b[0m\n\u001b[0;32m     95\u001b[0m \u001b[38;5;28msuper\u001b[39m(Certificate, \u001b[38;5;28mself\u001b[39m)\u001b[38;5;241m.\u001b[39m\u001b[38;5;21m__init__\u001b[39m()\n\u001b[0;32m     96\u001b[0m \u001b[38;5;28;01mif\u001b[39;00m _is_file_path(cert):\n\u001b[1;32m---> 97\u001b[0m     \u001b[38;5;28;01mwith\u001b[39;00m \u001b[38;5;28;43mopen\u001b[39;49m\u001b[43m(\u001b[49m\u001b[43mcert\u001b[49m\u001b[43m)\u001b[49m \u001b[38;5;28;01mas\u001b[39;00m json_file:\n\u001b[0;32m     98\u001b[0m         json_data \u001b[38;5;241m=\u001b[39m json\u001b[38;5;241m.\u001b[39mload(json_file)\n\u001b[0;32m     99\u001b[0m \u001b[38;5;28;01melif\u001b[39;00m \u001b[38;5;28misinstance\u001b[39m(cert, \u001b[38;5;28mdict\u001b[39m):\n",
      "\u001b[1;31mFileNotFoundError\u001b[0m: [Errno 2] No such file or directory: 'serviceAccountKey.json'"
     ]
    }
   ],
   "source": [
    "# Khởi tạo Firebase app\n",
    "cred = credentials.Certificate(\"serviceAccountKey.json\")\n",
    "firebase_admin.initialize_app(cred)\n",
    "\n",
    "# Kết nối tới Firestore\n",
    "db = firestore.client()\n",
    "\n",
    "# Đọc file CSV (đường dẫn file bạn vừa upload)\n",
    "csv_file_path = \"task_schedule_2.csv\"\n",
    "df = pd.read_csv(csv_file_path)\n",
    "\n",
    "# Thêm cột UserID = \"user1\"\n",
    "df[\"UserID\"] = \"user1\"\n",
    "\n",
    "# Lưu từng dòng vào Firestore\n",
    "for index, row in df.iterrows():\n",
    "    task_data = {\n",
    "        \"UserID\": row[\"UserID\"],\n",
    "        \"TaskID\": row.get(\"TaskID\", f\"task_{index}\"),\n",
    "        \"TaskName\": row[\"TaskName\"],\n",
    "        \"Type\": row[\"Type\"],\n",
    "        \"Duration\": row[\"Duration\"],\n",
    "        \"Importance\": row[\"Importance\"],\n",
    "        \"DayOfWeek\": row[\"DayOfWeek\"],\n",
    "        \"StartTime\": row[\"StartTime\"],\n",
    "        \"EndTime\": row[\"EndTime\"]\n",
    "    }\n",
    "\n",
    "    # Tên collection: \"tasks\", mỗi document ID là tự sinh\n",
    "    db.collection(\"dataset\").add(task_data)\n",
    "\n",
    "print(\"✅ Dữ liệu đã được lưu vào Firebase Firestore thành công!\")"
   ]
  },
  {
   "cell_type": "code",
   "execution_count": null,
   "id": "10168774-6662-4cb3-9ecd-f306ffde9a23",
   "metadata": {},
   "outputs": [],
   "source": []
  }
 ],
 "metadata": {
  "kernelspec": {
   "display_name": "Python 3 (ipykernel)",
   "language": "python",
   "name": "python3"
  },
  "language_info": {
   "codemirror_mode": {
    "name": "ipython",
    "version": 3
   },
   "file_extension": ".py",
   "mimetype": "text/x-python",
   "name": "python",
   "nbconvert_exporter": "python",
   "pygments_lexer": "ipython3",
   "version": "3.12.2"
  }
 },
 "nbformat": 4,
 "nbformat_minor": 5
}
