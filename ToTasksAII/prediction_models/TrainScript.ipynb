{
 "cells": [
  {
   "cell_type": "code",
   "execution_count": null,
   "id": "c2ab44b7-5acb-47bc-a4af-043d365894ce",
   "metadata": {},
   "outputs": [],
   "source": [
    "from prediction_models.train_models.DurationTrain import train_duration_prediction_model\n",
    "from prediction_models.train_models.ImportanceTrain import train_importance_prediction_model\n",
    "from prediction_models.train_models.StartTimeTrain2 import train_start_time_prediction_model_2\n",
    "from utils.DataPreparation import used_data\n",
    "from data_preprocessing import preprocess_data\n",
    "\n",
    "from prediction_models.train_models.TypeTrain import train_type_prediction_model"
   ]
  },
  {
   "cell_type": "code",
   "execution_count": null,
   "id": "97504dac-597c-4e40-bab0-9f0c3458e00b",
   "metadata": {},
   "outputs": [],
   "source": [
    "# Áp dụng quá trình tiền xử lý cho dữ liệu\n",
    "used_data, task_name_vectorized = preprocess_data(used_data)"
   ]
  },
  {
   "cell_type": "code",
   "execution_count": null,
   "id": "7430eaf7-ae0b-4075-a2e5-a222feac2fa6",
   "metadata": {},
   "outputs": [],
   "source": [
    "# Huấn luyện và lưu mô hình\n",
    "# TRAIN TYPE PREDICTION MODEL\n",
    "# train_type_prediction_model(task_name_vectorized, used_data_type=used_data['Type'], used_data_userid=used_data['UserID'])\n",
    "train_type_prediction_model(task_name_vectorized, used_data_type=used_data['Type'])\n",
    "\n",
    "# TRAIN IMPORTANCE PREDICTION MODEL\n",
    "# train_importance_prediction_model(task_name_vectorized, used_data_type=used_data['Type'],\n",
    "#                                   used_data_importance=used_data['Importance'], used_data_userid=used_data['UserID'])\n",
    "train_importance_prediction_model(task_name_vectorized, used_data_type=used_data['Type'],\n",
    "                                  used_data_importance=used_data['Importance'])\n",
    "\n",
    "# TRAIN DURATION PREDICTION MODEL\n",
    "# train_duration_prediction_model(task_name_vectorized, used_data_type=used_data['Type'],\n",
    "#                                 used_data_day_of_week=used_data['DayOfWeek'],\n",
    "#                                 used_data_importance=used_data['Importance'], used_data_userid=used_data['UserID'], used_data_duration=used_data['Duration'])\n",
    "train_duration_prediction_model(task_name_vectorized, used_data_type=used_data['Type'],\n",
    "                                used_data_day_of_week=used_data['DayOfWeek'],\n",
    "                                used_data_importance=used_data['Importance'], used_data_duration=used_data['Duration'])\n",
    "\n",
    "#-------------------------\n",
    "# def time_to_minutes(start_time):\n",
    "#     hours, minutes = map(int, start_time.split(\":\"))\n",
    "#     return hours * 60 + minutes\n",
    "#\n",
    "# used_data['StartTimeMinutes'] = used_data['StartTime'].apply(time_to_minutes)\n",
    "\n",
    "# required_columns = used_data[['Type', 'Importance', 'DayOfWeek', 'UserID']]\n",
    "required_columns = used_data[['Type', 'Importance', 'DayOfWeek']]\n",
    "\n",
    "train_start_time_prediction_model_2(task_name_vectorized, required_columns=required_columns,\n",
    "                                  start_time_minutes=used_data['StartTimeMinutes'])"
   ]
  }
 ],
 "metadata": {
  "kernelspec": {
   "display_name": "Python 3 (ipykernel)",
   "language": "python",
   "name": "python3"
  },
  "language_info": {
   "codemirror_mode": {
    "name": "ipython",
    "version": 3
   },
   "file_extension": ".py",
   "mimetype": "text/x-python",
   "name": "python",
   "nbconvert_exporter": "python",
   "pygments_lexer": "ipython3",
   "version": "3.12.2"
  }
 },
 "nbformat": 4,
 "nbformat_minor": 5
}
